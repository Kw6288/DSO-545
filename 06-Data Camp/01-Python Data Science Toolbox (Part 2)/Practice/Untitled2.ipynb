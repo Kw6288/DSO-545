{
 "cells": [
  {
   "cell_type": "code",
   "execution_count": 1,
   "metadata": {},
   "outputs": [],
   "source": [
    "a=(1,2,3)"
   ]
  },
  {
   "cell_type": "code",
   "execution_count": 2,
   "metadata": {},
   "outputs": [
    {
     "data": {
      "text/plain": [
       "[1, 2, 3]"
      ]
     },
     "execution_count": 2,
     "metadata": {},
     "output_type": "execute_result"
    }
   ],
   "source": [
    "list(a)"
   ]
  },
  {
   "cell_type": "code",
   "execution_count": 15,
   "metadata": {},
   "outputs": [],
   "source": [
    "name = ['able','ken','patti']\n",
    "name_2 = enumerate(name)"
   ]
  },
  {
   "cell_type": "code",
   "execution_count": 12,
   "metadata": {},
   "outputs": [
    {
     "name": "stdout",
     "output_type": "stream",
     "text": [
      "<enumerate object at 0x10792aaa0>\n"
     ]
    }
   ],
   "source": [
    "print(name_2)"
   ]
  },
  {
   "cell_type": "code",
   "execution_count": 13,
   "metadata": {},
   "outputs": [
    {
     "name": "stdout",
     "output_type": "stream",
     "text": [
      "[(0, 'able'), (1, 'ken'), (2, 'patti')]\n"
     ]
    }
   ],
   "source": [
    "print(list(name_2))"
   ]
  },
  {
   "cell_type": "code",
   "execution_count": 16,
   "metadata": {},
   "outputs": [
    {
     "name": "stdout",
     "output_type": "stream",
     "text": [
      "0 able\n",
      "1 ken\n",
      "2 patti\n"
     ]
    }
   ],
   "source": [
    "for x,y in name_2:\n",
    "    print(x,y)"
   ]
  },
  {
   "cell_type": "code",
   "execution_count": 18,
   "metadata": {},
   "outputs": [],
   "source": [
    "name = ['able','ken','patti']\n",
    "age = [22,24,25]\n",
    "\n",
    "comb = zip(name,age)"
   ]
  },
  {
   "cell_type": "code",
   "execution_count": 19,
   "metadata": {},
   "outputs": [
    {
     "data": {
      "text/plain": [
       "[('able', 22), ('ken', 24), ('patti', 25)]"
      ]
     },
     "execution_count": 19,
     "metadata": {},
     "output_type": "execute_result"
    }
   ],
   "source": [
    "list(comb)"
   ]
  },
  {
   "cell_type": "code",
   "execution_count": 23,
   "metadata": {},
   "outputs": [],
   "source": [
    "name = ['able','ken','patti']\n",
    "age = [22,24,25]\n",
    "\n",
    "comb = zip(name,age)"
   ]
  },
  {
   "cell_type": "code",
   "execution_count": 21,
   "metadata": {},
   "outputs": [
    {
     "name": "stdout",
     "output_type": "stream",
     "text": [
      "('able', 22) ('ken', 24) ('patti', 25)\n"
     ]
    }
   ],
   "source": [
    "print(*comb)"
   ]
  },
  {
   "cell_type": "code",
   "execution_count": 24,
   "metadata": {},
   "outputs": [
    {
     "name": "stdout",
     "output_type": "stream",
     "text": [
      "able 22\n",
      "ken 24\n",
      "patti 25\n"
     ]
    }
   ],
   "source": [
    "for x,y in comb:\n",
    "    print(x,y)"
   ]
  },
  {
   "cell_type": "code",
   "execution_count": 40,
   "metadata": {},
   "outputs": [
    {
     "data": {
      "text/html": [
       "<div>\n",
       "<style scoped>\n",
       "    .dataframe tbody tr th:only-of-type {\n",
       "        vertical-align: middle;\n",
       "    }\n",
       "\n",
       "    .dataframe tbody tr th {\n",
       "        vertical-align: top;\n",
       "    }\n",
       "\n",
       "    .dataframe thead th {\n",
       "        text-align: right;\n",
       "    }\n",
       "</style>\n",
       "<table border=\"1\" class=\"dataframe\">\n",
       "  <thead>\n",
       "    <tr style=\"text-align: right;\">\n",
       "      <th></th>\n",
       "      <th>customer</th>\n",
       "      <th>products</th>\n",
       "      <th>sales_person</th>\n",
       "      <th>sales_region</th>\n",
       "      <th>sales_date</th>\n",
       "      <th>quarter</th>\n",
       "      <th>sales</th>\n",
       "      <th>costs</th>\n",
       "    </tr>\n",
       "  </thead>\n",
       "  <tbody>\n",
       "    <tr>\n",
       "      <th>0</th>\n",
       "      <td>LONG ISLANDS INC</td>\n",
       "      <td>SOFT DRINKS</td>\n",
       "      <td>Michael Jackson</td>\n",
       "      <td>AMERICAS</td>\n",
       "      <td>4/13/12</td>\n",
       "      <td>Q2</td>\n",
       "      <td>24640</td>\n",
       "      <td>16999</td>\n",
       "    </tr>\n",
       "    <tr>\n",
       "      <th>1</th>\n",
       "      <td>LONG ISLANDS INC</td>\n",
       "      <td>SOFT DRINKS</td>\n",
       "      <td>Michael Jackson</td>\n",
       "      <td>AMERICAS</td>\n",
       "      <td>12/21/12</td>\n",
       "      <td>Q4</td>\n",
       "      <td>24640</td>\n",
       "      <td>13059</td>\n",
       "    </tr>\n",
       "    <tr>\n",
       "      <th>2</th>\n",
       "      <td>LONG ISLANDS INC</td>\n",
       "      <td>SOFT DRINKS</td>\n",
       "      <td>Michael Jackson</td>\n",
       "      <td>AMERICAS</td>\n",
       "      <td>12/24/12</td>\n",
       "      <td>Q4</td>\n",
       "      <td>29923</td>\n",
       "      <td>13826</td>\n",
       "    </tr>\n",
       "    <tr>\n",
       "      <th>3</th>\n",
       "      <td>LONG ISLANDS INC</td>\n",
       "      <td>SOFT DRINKS</td>\n",
       "      <td>Michael Jackson</td>\n",
       "      <td>AMERICAS</td>\n",
       "      <td>12/24/12</td>\n",
       "      <td>Q4</td>\n",
       "      <td>66901</td>\n",
       "      <td>18658</td>\n",
       "    </tr>\n",
       "    <tr>\n",
       "      <th>4</th>\n",
       "      <td>LONG ISLANDS INC</td>\n",
       "      <td>SOFT DRINKS</td>\n",
       "      <td>Michael Jackson</td>\n",
       "      <td>AMERICAS</td>\n",
       "      <td>12/29/12</td>\n",
       "      <td>Q4</td>\n",
       "      <td>63116</td>\n",
       "      <td>19949</td>\n",
       "    </tr>\n",
       "  </tbody>\n",
       "</table>\n",
       "</div>"
      ],
      "text/plain": [
       "           customer     products     sales_person sales_region sales_date  \\\n",
       "0  LONG ISLANDS INC  SOFT DRINKS  Michael Jackson     AMERICAS    4/13/12   \n",
       "1  LONG ISLANDS INC  SOFT DRINKS  Michael Jackson     AMERICAS   12/21/12   \n",
       "2  LONG ISLANDS INC  SOFT DRINKS  Michael Jackson     AMERICAS   12/24/12   \n",
       "3  LONG ISLANDS INC  SOFT DRINKS  Michael Jackson     AMERICAS   12/24/12   \n",
       "4  LONG ISLANDS INC  SOFT DRINKS  Michael Jackson     AMERICAS   12/29/12   \n",
       "\n",
       "  quarter  sales  costs  \n",
       "0      Q2  24640  16999  \n",
       "1      Q4  24640  13059  \n",
       "2      Q4  29923  13826  \n",
       "3      Q4  66901  18658  \n",
       "4      Q4  63116  19949  "
      ]
     },
     "execution_count": 40,
     "metadata": {},
     "output_type": "execute_result"
    }
   ],
   "source": [
    "import pandas as pd\n",
    "\n",
    "order = pd.read_csv('orders.csv', chunksize = 1000)\n",
    "orders = pd.read_csv('orders.csv')\n",
    "orders.head()"
   ]
  },
  {
   "cell_type": "code",
   "execution_count": 41,
   "metadata": {},
   "outputs": [],
   "source": [
    "chunk_sum = []\n",
    "for x in order:\n",
    "    chunk_sum.append(sum(x['sales']))"
   ]
  },
  {
   "cell_type": "code",
   "execution_count": 43,
   "metadata": {},
   "outputs": [],
   "source": [
    "total = sum(chunk_sum)"
   ]
  },
  {
   "cell_type": "code",
   "execution_count": 44,
   "metadata": {},
   "outputs": [
    {
     "name": "stdout",
     "output_type": "stream",
     "text": [
      "32062645\n"
     ]
    }
   ],
   "source": [
    "print(total)"
   ]
  },
  {
   "cell_type": "code",
   "execution_count": null,
   "metadata": {},
   "outputs": [],
   "source": []
  }
 ],
 "metadata": {
  "kernelspec": {
   "display_name": "Python 3",
   "language": "python",
   "name": "python3"
  },
  "language_info": {
   "codemirror_mode": {
    "name": "ipython",
    "version": 3
   },
   "file_extension": ".py",
   "mimetype": "text/x-python",
   "name": "python",
   "nbconvert_exporter": "python",
   "pygments_lexer": "ipython3",
   "version": "3.7.4"
  }
 },
 "nbformat": 4,
 "nbformat_minor": 2
}
